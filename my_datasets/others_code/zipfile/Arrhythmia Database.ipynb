{
 "cells": [
  {
   "cell_type": "code",
   "execution_count": null,
   "metadata": {
    "pycharm": {
     "is_executing": true
    }
   },
   "outputs": [],
   "source": [
    "# Code for extracting information off the Arrhythmia Database files"
   ]
  },
  {
   "cell_type": "code",
   "execution_count": null,
   "metadata": {
    "pycharm": {
     "is_executing": true
    }
   },
   "outputs": [],
   "source": [
    "import wfdb\n",
    "import numpy as np\n",
    "import pickle\n",
    "import matplotlib.pyplot as plt"
   ]
  },
  {
   "cell_type": "code",
   "execution_count": null,
   "metadata": {
    "pycharm": {
     "is_executing": true
    }
   },
   "outputs": [],
   "source": [
    "# As they're not in chronological order it's easier to make a list with all the filnames \n",
    "names = [100,101,102,103,104,105,106,107,108,109,111,112,113,114,115,116,117,118,119,121,122,123,\n",
    "        124,200,201,202,203,205,207,208,209,210,212,213,214,215,217,219,220,221,222,223,228,230,\n",
    "        231,232,233,234]"
   ]
  },
  {
   "cell_type": "code",
   "execution_count": null,
   "metadata": {
    "pycharm": {
     "is_executing": true
    }
   },
   "outputs": [],
   "source": [
    "for i,name in enumerate(names):\n",
    "    print('For file ',name,' the index is ', i)"
   ]
  },
  {
   "cell_type": "code",
   "execution_count": null,
   "metadata": {
    "pycharm": {
     "is_executing": true
    }
   },
   "outputs": [],
   "source": [
    "# This function extracts the ecg signal and converts it into an array\n",
    "\n",
    "def extract_data(filename):\n",
    "    record = wfdb.rdrecord('adb/{}'.format(filename))\n",
    "    d_signal = record.adc()\n",
    "    \n",
    "        \n",
    "    # This normalises the data so that the max value is 1\n",
    "    #V_signal = (V_signal - V_signal.min())/(V_signal.max() - V_signal.min())\n",
    "    return d_signal"
   ]
  },
  {
   "cell_type": "code",
   "execution_count": null,
   "metadata": {
    "pycharm": {
     "is_executing": true
    }
   },
   "outputs": [],
   "source": [
    "for i,name in enumerate(names):\n",
    "    signal = extract_data(name)\n",
    "    with open('adb arrays/{}_array.pkl'.format(i), 'wb') as f:\n",
    "        pickle.dump(signal, f)"
   ]
  },
  {
   "cell_type": "code",
   "execution_count": null,
   "metadata": {
    "pycharm": {
     "is_executing": true
    }
   },
   "outputs": [],
   "source": [
    "# This function extracts the labels and their locations (ie the peak locations) for each beat and \n",
    "# puts them into a lists \n",
    "def extract_labels(filename):\n",
    "    # This reads in the file and converts it to an object called ann\n",
    "    ann = wfdb.rdann('adb/{}'.format(filename),'atr',return_label_elements=['symbol'])\n",
    "    # These two lines return the symbol and the locations \n",
    "    labels_symbol = ann.symbol\n",
    "    locations = ann.sample\n",
    "    return labels_symbol, locations"
   ]
  },
  {
   "cell_type": "code",
   "execution_count": null,
   "metadata": {
    "pycharm": {
     "is_executing": true
    }
   },
   "outputs": [],
   "source": [
    "for i,name in enumerate(names):\n",
    "    labels_symbol,peaks = extract_labels(name)\n",
    "    with open('adb labels/{}_labels.pkl'.format(i), 'wb') as f:\n",
    "        pickle.dump(labels_symbol, f)\n",
    "    with open('adb label locations/{}_label_locations.pkl'.format(i), 'wb') as f:\n",
    "        pickle.dump(peaks, f)"
   ]
  },
  {
   "cell_type": "code",
   "execution_count": null,
   "metadata": {
    "pycharm": {
     "is_executing": true
    }
   },
   "outputs": [],
   "source": [
    "# This saves the rhythm annotations \n",
    "for i,name in enumerate(names):\n",
    "    ann = wfdb.rdann('adb/{}'.format(name),'atr',return_label_elements=['description'])\n",
    "    rhythm = ann.aux_note\n",
    "    # This gets rid of the brackets and the '\\x00' in the annotations\n",
    "    for j in range(len(rhythm)):\n",
    "        rhythm[j] = rhythm[j].rstrip('\\x00')\n",
    "        rhythm[j] = rhythm[j].strip('(')\n",
    "    with open('adb rhythms/{}_rhythms.pkl'.format(i), 'wb') as f:\n",
    "        pickle.dump(rhythm, f)"
   ]
  },
  {
   "cell_type": "code",
   "execution_count": null,
   "metadata": {
    "pycharm": {
     "is_executing": true
    }
   },
   "outputs": [],
   "source": [
    "with open('adb rhythms/39_rhythms.pkl','rb') as f:\n",
    "    da = pickle.load(f)\n",
    "print(da)    \n",
    "    "
   ]
  },
  {
   "cell_type": "code",
   "execution_count": null,
   "metadata": {
    "pycharm": {
     "is_executing": true
    }
   },
   "outputs": [],
   "source": [
    "#%matplotlib qt\n",
    "plt.plot(data[:,0])\n",
    "#plt.scatter(peaks,data[peaks][:,0],c='r')"
   ]
  },
  {
   "cell_type": "code",
   "execution_count": null,
   "metadata": {
    "pycharm": {
     "is_executing": true
    }
   },
   "outputs": [],
   "source": [
    "with open('adb final labels/adb beat labels/24_beat_labels.pkl','rb') as f:\n",
    "    labels = pickle.load(f)\n"
   ]
  },
  {
   "cell_type": "code",
   "execution_count": null,
   "metadata": {
    "pycharm": {
     "is_executing": true
    }
   },
   "outputs": [],
   "source": [
    "index_four = []\n",
    "for i,c in enumerate(labels):\n",
    "    if c == 'N':\n",
    "        index_four.append(i)"
   ]
  },
  {
   "cell_type": "code",
   "execution_count": null,
   "metadata": {
    "pycharm": {
     "is_executing": true
    }
   },
   "outputs": [],
   "source": [
    "print(index_four)\n",
    "print(len(index_four))"
   ]
  },
  {
   "cell_type": "code",
   "execution_count": null,
   "metadata": {
    "pycharm": {
     "is_executing": true
    }
   },
   "outputs": [],
   "source": [
    "print(len(labels))\n",
    "print(labels[:10])"
   ]
  },
  {
   "cell_type": "code",
   "execution_count": null,
   "metadata": {
    "pycharm": {
     "is_executing": true
    }
   },
   "outputs": [],
   "source": [
    "from collections import Counter\n",
    "print(Counter(labels).keys()) # equals to list(set(words))\n",
    "print(Counter(labels).values()) # counts the elements' frequency"
   ]
  },
  {
   "cell_type": "code",
   "execution_count": null,
   "metadata": {
    "pycharm": {
     "is_executing": true
    }
   },
   "outputs": [],
   "source": []
  }
 ],
 "metadata": {
  "kernelspec": {
   "display_name": "Python 3",
   "language": "python",
   "name": "python3"
  },
  "language_info": {
   "codemirror_mode": {
    "name": "ipython",
    "version": 3
   },
   "file_extension": ".py",
   "mimetype": "text/x-python",
   "name": "python",
   "nbconvert_exporter": "python",
   "pygments_lexer": "ipython3",
   "version": "3.7.0"
  }
 },
 "nbformat": 4,
 "nbformat_minor": 2
}